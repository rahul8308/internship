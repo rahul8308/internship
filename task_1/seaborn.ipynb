{
  "nbformat": 4,
  "nbformat_minor": 0,
  "metadata": {
    "colab": {
      "provenance": [],
      "include_colab_link": true
    },
    "kernelspec": {
      "name": "python3",
      "display_name": "Python 3"
    },
    "language_info": {
      "name": "python"
    }
  },
  "cells": [
    {
      "cell_type": "markdown",
      "metadata": {
        "id": "view-in-github",
        "colab_type": "text"
      },
      "source": [
        "<a href=\"https://colab.research.google.com/github/rahul8308/internship/blob/main/task_1/seaborn.ipynb\" target=\"_parent\"><img src=\"https://colab.research.google.com/assets/colab-badge.svg\" alt=\"Open In Colab\"/></a>"
      ]
    },
    {
      "cell_type": "code",
      "source": [
        "#program to load data all the seaborn \n",
        "import seaborn as sns\n",
        "print(sns.get_dataset_names())\n",
        "#some example of load data as follows\n",
        "'''\n",
        "df=sns.load_dataset(\"car_crashes\")\n",
        "print(df.head())\n",
        "xyz=sns.load_dataset(\"diamonds\")\n",
        "print(xyz.head())\n",
        "moin=sns.load_dataset(\"brain_networks\")\n",
        "print(moin.head())'''\n"
      ],
      "metadata": {
        "id": "YvqUEB_0FiYf"
      },
      "execution_count": null,
      "outputs": []
    },
    {
      "cell_type": "code",
      "source": [],
      "metadata": {
        "id": "a52BgHC3KWgQ"
      },
      "execution_count": null,
      "outputs": []
    },
    {
      "cell_type": "code",
      "source": [
        "# seaborn.FacetGrid() method\n",
        "import seaborn\n",
        "import matplotlib.pyplot as plt \n",
        "df = seaborn.load_dataset('tips') \n",
        "graph = seaborn.FacetGrid(df, row ='smoker', col ='time')\n",
        "graph.map(plt.hist, 'total_bill', bins = 15, color ='orange')\n",
        "  "
      ],
      "metadata": {
        "id": "yDp8TjJeK2pU"
      },
      "execution_count": null,
      "outputs": []
    },
    {
      "cell_type": "code",
      "source": [
        "#Barplot using seaborn in Python\n",
        "\n",
        "import seaborn as sns\n",
        "import matplotlib.pyplot as plt\n",
        "df = sns.load_dataset('titanic')\n",
        "sns.barplot(x = 'class', y = 'fare', data = df)\n"
      ],
      "metadata": {
        "id": "6uDm9iqVM5PN"
      },
      "execution_count": null,
      "outputs": []
    },
    {
      "cell_type": "code",
      "source": [
        "\n",
        "import matplotlib.pyplot as plt\n",
        "import seaborn as sns\n",
        "\n",
        "sns.distplot([0, 1, 2, 3, 4, 5])"
      ],
      "metadata": {
        "id": "ekwRR5FqOUMH"
      },
      "execution_count": null,
      "outputs": []
    }
  ]
}