{
  "nbformat": 4,
  "nbformat_minor": 0,
  "metadata": {
    "colab": {
      "provenance": [],
      "include_colab_link": true
    },
    "kernelspec": {
      "name": "python3",
      "display_name": "Python 3"
    },
    "language_info": {
      "name": "python"
    }
  },
  "cells": [
    {
      "cell_type": "markdown",
      "metadata": {
        "id": "view-in-github",
        "colab_type": "text"
      },
      "source": [
        "<a href=\"https://colab.research.google.com/github/rahul8308/internship/blob/main/task_1/Numpy.ipynb\" target=\"_parent\"><img src=\"https://colab.research.google.com/assets/colab-badge.svg\" alt=\"Open In Colab\"/></a>"
      ]
    },
    {
      "cell_type": "code",
      "execution_count": null,
      "metadata": {
        "id": "8dxZJCYzFjgk",
        "colab": {
          "base_uri": "https://localhost:8080/"
        },
        "outputId": "69a4cbc2-9199-46bf-c7db-10ac38ce839f"
      },
      "outputs": [
        {
          "output_type": "stream",
          "name": "stdout",
          "text": [
            "[[7 8 9]\n",
            " [5 6 7]]\n"
          ]
        }
      ],
      "source": [
        "#using numpy sample program no 1\n",
        "#program for print two dimensional array\n",
        "import numpy as np\n",
        "a= np.array([[7,8,9],[5,6,7]])\n",
        "print(a)"
      ]
    },
    {
      "cell_type": "code",
      "source": [
        "#using numpy sample program no 2\n",
        "#program for adding two dimensional array\n",
        "import numpy as np\n",
        "a=np.array([[1,2,3],\n",
        "            [4,5,6]])\n",
        "b=np.array([[5,8,7],\n",
        "            [9,3,5]])\n",
        "c=a+b\n",
        "print(c)"
      ],
      "metadata": {
        "colab": {
          "base_uri": "https://localhost:8080/"
        },
        "id": "VztGnFzqFntS",
        "outputId": "9bc902aa-828e-4754-9f1c-0ded38bd8a5b"
      },
      "execution_count": null,
      "outputs": [
        {
          "output_type": "stream",
          "name": "stdout",
          "text": [
            "[[ 6 10 10]\n",
            " [13  8 11]]\n"
          ]
        }
      ]
    },
    {
      "cell_type": "code",
      "source": [
        "#using numpy smaple program no 3\n",
        "# program for arange numbers using numpy arange function \n",
        "import numpy as np\n",
        "a=np.arange(4)\n",
        "print(a)\n"
      ],
      "metadata": {
        "colab": {
          "base_uri": "https://localhost:8080/"
        },
        "id": "5z6h5LusITVJ",
        "outputId": "c642a7eb-18ed-43ed-ae29-85fbbcea3bc2"
      },
      "execution_count": null,
      "outputs": [
        {
          "output_type": "stream",
          "name": "stdout",
          "text": [
            "[0 1 2 3]\n"
          ]
        }
      ]
    },
    {
      "cell_type": "code",
      "source": [
        "#program for to create an array of the number 1 to 50\n",
        "import numpy as np\n",
        "arr=np.arange(1,51)\n",
        "print(arr)"
      ],
      "metadata": {
        "colab": {
          "base_uri": "https://localhost:8080/"
        },
        "id": "CSX39SaGOYiR",
        "outputId": "eb76aa1e-e815-4887-9b48-03b5749b6a26"
      },
      "execution_count": null,
      "outputs": [
        {
          "output_type": "stream",
          "name": "stdout",
          "text": [
            "[ 1  2  3  4  5  6  7  8  9 10 11 12 13 14 15 16 17 18 19 20 21 22 23 24\n",
            " 25 26 27 28 29 30 31 32 33 34 35 36 37 38 39 40 41 42 43 44 45 46 47 48\n",
            " 49 50]\n"
          ]
        }
      ]
    }
  ]
}